{
  "nbformat": 4,
  "nbformat_minor": 0,
  "metadata": {
    "colab": {
      "provenance": []
    },
    "kernelspec": {
      "name": "python3",
      "display_name": "Python 3"
    },
    "language_info": {
      "name": "python"
    }
  },
  "cells": [
    {
      "cell_type": "code",
      "source": [
        "from google.colab import drive\n",
        "drive.mount('/content/drive')"
      ],
      "metadata": {
        "id": "C-L5pH18afp7"
      },
      "execution_count": null,
      "outputs": []
    },
    {
      "cell_type": "code",
      "execution_count": null,
      "metadata": {
        "id": "xjt3RFPcaZVp"
      },
      "outputs": [],
      "source": [
        "from tensorflow.keras.models import load_model\n",
        "from tensorflow.keras.preprocessing.image import ImageDataGenerator\n",
        "from tensorflow.keras.applications.vgg16 import preprocess_input\n",
        "import math"
      ]
    },
    {
      "cell_type": "code",
      "source": [
        "# 저장된 모델 불러오기\n",
        "model = load_model('/content/drive/MyDrive/GDSC/model/vgg16_gdsc_model_30_custom.h5')"
      ],
      "metadata": {
        "id": "xIlTYPwvan3y"
      },
      "execution_count": null,
      "outputs": []
    },
    {
      "cell_type": "code",
      "source": [
        "TRAIN_DATA_DIR = '/content/drive/MyDrive/GDSC/data/train'\n",
        "VALIDATION_DATA_DIR = '/content/drive/MyDrive/GDSC/data/val'\n",
        "TEST_DATA_DIR = '/content/drive/MyDrive/GDSC/data/test'\n",
        "\n",
        "NUM_CLASSES = 7\n",
        "IMG_WIDTH, IMG_HEIGHT = 224, 224\n",
        "BATCH_SIZE = 64"
      ],
      "metadata": {
        "id": "4ToJIa5Naxtf"
      },
      "execution_count": null,
      "outputs": []
    },
    {
      "cell_type": "markdown",
      "source": [
        "# test 데이터셋 확인"
      ],
      "metadata": {
        "id": "Y2y47OXYbL8G"
      }
    },
    {
      "cell_type": "code",
      "source": [
        "# 테스트 데이터셋을 위한 ImageDataGenerator 생성\n",
        "test_datagen = ImageDataGenerator(preprocessing_function=preprocess_input)\n",
        "\n",
        "# 테스트 데이터 로더 생성\n",
        "test_generator = test_datagen.flow_from_directory(\n",
        "    TEST_DATA_DIR,\n",
        "    target_size=(224, 224),\n",
        "    batch_size=32,\n",
        "    class_mode='categorical',\n",
        "    shuffle=False  # 평가를 위해서는 데이터를 섞지 않음\n",
        ")"
      ],
      "metadata": {
        "id": "iYHR2eGdawi_"
      },
      "execution_count": null,
      "outputs": []
    },
    {
      "cell_type": "code",
      "source": [
        "# 모델 성능 평가\n",
        "test_loss, test_accuracy = model.evaluate(\n",
        "    test_generator,\n",
        "    steps=math.ceil(test_generator.samples / test_generator.batch_size)\n",
        ")\n",
        "\n",
        "# 평가 결과 출력\n",
        "print(f\"Test Loss: {test_loss}\")\n",
        "print(f\"Test Accuracy: {test_accuracy}\")"
      ],
      "metadata": {
        "id": "HG_qkYZCa6PC"
      },
      "execution_count": null,
      "outputs": []
    },
    {
      "cell_type": "markdown",
      "source": [
        "# 검증 코드"
      ],
      "metadata": {
        "id": "GNvF_q0qbTjg"
      }
    },
    {
      "cell_type": "code",
      "source": [],
      "metadata": {
        "id": "ATWWJFSrbTEo"
      },
      "execution_count": null,
      "outputs": []
    }
  ]
}