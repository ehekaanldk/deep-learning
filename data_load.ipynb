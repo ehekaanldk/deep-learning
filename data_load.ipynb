{
  "nbformat": 4,
  "nbformat_minor": 0,
  "metadata": {
    "colab": {
      "provenance": []
    },
    "kernelspec": {
      "name": "python3",
      "display_name": "Python 3"
    },
    "language_info": {
      "name": "python"
    }
  },
  "cells": [
    {
      "cell_type": "markdown",
      "source": [
        "# 드라이브 연결"
      ],
      "metadata": {
        "id": "lsCosV0IE-_y"
      }
    },
    {
      "cell_type": "code",
      "source": [
        "from google.colab import drive\n",
        "drive.mount('/content/drive')"
      ],
      "metadata": {
        "colab": {
          "base_uri": "https://localhost:8080/"
        },
        "id": "KaK6OFhie9vZ",
        "outputId": "bd3bc67f-3780-490e-e006-893e299dc10e"
      },
      "execution_count": null,
      "outputs": [
        {
          "output_type": "stream",
          "name": "stdout",
          "text": [
            "Mounted at /content/drive\n"
          ]
        }
      ]
    },
    {
      "cell_type": "markdown",
      "source": [
        "# 데이터 다운 및 zip 해제"
      ],
      "metadata": {
        "id": "wfsZCh1rFCim"
      }
    },
    {
      "cell_type": "code",
      "source": [
        "%cd /content/drive/MyDrive/GDSC/can\n",
        "!unzip -qq \"/content/drive/MyDrive/GDSC/can/[V원천]캔류_스팸류_스팸류.zip\""
      ],
      "metadata": {
        "colab": {
          "base_uri": "https://localhost:8080/"
        },
        "id": "KTeVatd-fxeT",
        "outputId": "f89f64ca-9fa9-4ee4-a164-d4861fc9199c"
      },
      "execution_count": null,
      "outputs": [
        {
          "output_type": "stream",
          "name": "stdout",
          "text": [
            "/content/drive/MyDrive/GDSC/can\n"
          ]
        }
      ]
    },
    {
      "cell_type": "code",
      "source": [
        "%cd /content/drive/MyDrive/GDSC/can\n",
        "!ls -l | grep ^d | wc -l"
      ],
      "metadata": {
        "colab": {
          "base_uri": "https://localhost:8080/"
        },
        "id": "_Xw0P4iljhwX",
        "outputId": "93deeb3f-a9aa-43b8-9d37-b00a70532b16"
      },
      "execution_count": null,
      "outputs": [
        {
          "output_type": "stream",
          "name": "stdout",
          "text": [
            "/content/drive/MyDrive/GDSC/can\n",
            "26\n"
          ]
        }
      ]
    },
    {
      "cell_type": "code",
      "source": [
        "%cd /content/drive/MyDrive/GDSC/glass\n",
        "!unzip -qq \"/content/drive/MyDrive/GDSC/glass/[V원천]유리병_물병_물병.zip\""
      ],
      "metadata": {
        "colab": {
          "base_uri": "https://localhost:8080/"
        },
        "id": "brtUuvpzkvOj",
        "outputId": "8fae7009-7e3e-4db5-8ed6-466632c0eb1a"
      },
      "execution_count": null,
      "outputs": [
        {
          "output_type": "stream",
          "name": "stdout",
          "text": [
            "/content/drive/MyDrive/GDSC/glass\n"
          ]
        }
      ]
    },
    {
      "cell_type": "code",
      "source": [
        "%cd /content/drive/MyDrive/GDSC/glass\n",
        "!unzip -qq \"/content/drive/MyDrive/GDSC/glass/[V원천]유리병_기타_기타.zip\""
      ],
      "metadata": {
        "colab": {
          "base_uri": "https://localhost:8080/"
        },
        "id": "hPvE2v4emmBh",
        "outputId": "e16d78a4-dfe4-4dcb-c41c-17e650613aca"
      },
      "execution_count": null,
      "outputs": [
        {
          "output_type": "stream",
          "name": "stdout",
          "text": [
            "/content/drive/MyDrive/GDSC/glass\n"
          ]
        }
      ]
    },
    {
      "cell_type": "code",
      "source": [
        "%cd /content/drive/MyDrive/GDSC/glass\n",
        "!ls -l | grep ^d | wc -l"
      ],
      "metadata": {
        "colab": {
          "base_uri": "https://localhost:8080/"
        },
        "id": "RzKWVu87msCK",
        "outputId": "b8a2217f-c3c7-4219-a10f-b9fa1dacf559"
      },
      "execution_count": null,
      "outputs": [
        {
          "output_type": "stream",
          "name": "stdout",
          "text": [
            "/content/drive/MyDrive/GDSC/glass\n",
            "38\n"
          ]
        }
      ]
    },
    {
      "cell_type": "code",
      "source": [
        "%cd /content/drive/MyDrive/GDSC/plastic\n",
        "!unzip -qq \"/content/drive/MyDrive/GDSC/plastic/[V원천]플라스틱류_기타_기타.zip\""
      ],
      "metadata": {
        "colab": {
          "base_uri": "https://localhost:8080/"
        },
        "id": "CK56GcRdHVb0",
        "outputId": "5236a392-bd85-4005-bd25-3fc207606a36"
      },
      "execution_count": null,
      "outputs": [
        {
          "output_type": "stream",
          "name": "stdout",
          "text": [
            "/content/drive/MyDrive/GDSC/plastic\n"
          ]
        }
      ]
    },
    {
      "cell_type": "code",
      "source": [
        "%cd /content/drive/MyDrive/GDSC/plastic\n",
        "!unzip -qq \"/content/drive/MyDrive/GDSC/plastic/[V원천]플라스틱류_대용량플라스틱통_대용량플라스틱통.zip\""
      ],
      "metadata": {
        "colab": {
          "base_uri": "https://localhost:8080/"
        },
        "id": "6WK0mcc1KIy5",
        "outputId": "22af85e5-08dd-4e1c-f787-20a9a60cd8fb"
      },
      "execution_count": null,
      "outputs": [
        {
          "output_type": "stream",
          "name": "stdout",
          "text": [
            "/content/drive/MyDrive/GDSC/plastic\n"
          ]
        }
      ]
    },
    {
      "cell_type": "code",
      "source": [
        "%cd /content/drive/MyDrive/GDSC/plastic\n",
        "!ls -l | grep ^d | wc -l"
      ],
      "metadata": {
        "colab": {
          "base_uri": "https://localhost:8080/"
        },
        "id": "Mn6c4hvZHxbk",
        "outputId": "0ac83756-2018-420b-ae59-15b928eed349"
      },
      "execution_count": null,
      "outputs": [
        {
          "output_type": "stream",
          "name": "stdout",
          "text": [
            "/content/drive/MyDrive/GDSC/plastic\n",
            "86\n"
          ]
        }
      ]
    },
    {
      "cell_type": "markdown",
      "source": [
        "# 데이터 하위 폴더 제거"
      ],
      "metadata": {
        "id": "Ryu7S7GSFI9Q"
      }
    },
    {
      "cell_type": "code",
      "source": [
        "%cd /content/drive/MyDrive/GDSC/can/cans/\n",
        "!unzip -qq \"/content/drive/MyDrive/GDSC/can/cans/[V원천]캔류_통조림캔_통조림캔.zip\""
      ],
      "metadata": {
        "colab": {
          "base_uri": "https://localhost:8080/"
        },
        "id": "hMNhMg4OT7XS",
        "outputId": "54f9f22f-d003-4a53-aae7-3cc9b867ee37"
      },
      "execution_count": null,
      "outputs": [
        {
          "output_type": "stream",
          "name": "stdout",
          "text": [
            "/content/drive/MyDrive/GDSC/can/cans\n"
          ]
        }
      ]
    },
    {
      "cell_type": "code",
      "source": [
        "import os\n",
        "import shutil\n",
        "\n",
        "# 상위 폴더 경로 설정 (예: 'paper', 'can', 'pet' 등이 있는 경로)\n",
        "base_dir = '/content/drive/MyDrive/GDSC/can/'  # 실제 경로로 변경해야 합니다.\n",
        "\n",
        "# 파일 번호 초기화\n",
        "file_number = 1\n",
        "\n",
        "# 하위 폴더의 모든 파일을 상위 'can' 폴더로 이동하면서 새로운 이름 부여\n",
        "for subdir, dirs, files in os.walk(base_dir):\n",
        "    for file in files:\n",
        "        # 새 파일 이름 형식 'can_001.jpg', 'can_002.jpg', ...\n",
        "        new_name = f'can_{file_number:03d}.jpg'\n",
        "        file_number += 1\n",
        "\n",
        "        # 파일의 전체 경로\n",
        "        file_path = os.path.join(subdir, file)\n",
        "        # 새 파일의 전체 경로\n",
        "        new_file_path = os.path.join(base_dir, new_name)\n",
        "\n",
        "        # 파일을 새 이름으로 상위 폴더로 이동\n",
        "        shutil.move(file_path, new_file_path)\n",
        "\n",
        "    # 현재 폴더가 base_dir이 아니고 비어있다면 삭제\n",
        "    if subdir != base_dir and not os.listdir(subdir):\n",
        "        os.rmdir(subdir)\n"
      ],
      "metadata": {
        "id": "lyd-a6gdjTWH"
      },
      "execution_count": null,
      "outputs": []
    },
    {
      "cell_type": "code",
      "source": [
        "# glass 상위 폴더 경로 설정\n",
        "base_dir_glass = \"/content/drive/MyDrive/GDSC/glass/\"\n",
        "\n",
        "# 파일 번호 초기화\n",
        "file_number = 1\n",
        "\n",
        "# 하위 폴더의 모든 파일을 상위 glass 폴더로 이동 및 이름 변경\n",
        "for subdir, dirs, files in os.walk(base_dir_glass):\n",
        "  for file in files:\n",
        "    new_name = f'glass_{file_number:03d}.jpg'\n",
        "    file_number += 1\n",
        "\n",
        "    # 파일의 전체 경로\n",
        "    file_path = os.path.join(subdir, file)\n",
        "\n",
        "    # 새 파일의 전체 경로\n",
        "    new_file_path = os.path.join(base_dir_glass, new_name)\n",
        "\n",
        "    # 파일을 새 이름으로 상위 폴더로 이동\n",
        "    shutil.move(file_path, new_file_path)\n",
        "\n",
        "    # 현재 폴더가 base_dir이 아니고 비어있다면 삭제\n",
        "    if subdir != base_dir_glass and not os.listdir(subdir):\n",
        "        os.rmdir(subdir)\n"
      ],
      "metadata": {
        "id": "L8mHChczO2m1"
      },
      "execution_count": null,
      "outputs": []
    },
    {
      "cell_type": "code",
      "source": [
        "# plastic 상위 폴더 경로 설정\n",
        "base_dir_plastic = \"/content/drive/MyDrive/GDSC/plastic/\"\n",
        "\n",
        "# 파일 번호 초기화\n",
        "file_number = 1\n",
        "\n",
        "# 하위 폴더의 모든 파일을 상위 plastic 폴더로 이동 및 이름 변경\n",
        "for subdir, dirs, files in os.walk(base_dir_plastic):\n",
        "  for file in files:\n",
        "    new_name = f'plastic_{file_number:03d}.jpg'\n",
        "    file_number += 1\n",
        "\n",
        "    # 파일의 전체 경로\n",
        "    file_path = os.path.join(subdir, file)\n",
        "\n",
        "    # 새 파일의 전체 경로\n",
        "    new_file_path = os.path.join(base_dir_plastic, new_name)\n",
        "\n",
        "    # 파일을 새 이름으로 상위 폴더로 이동\n",
        "    shutil.move(file_path, new_file_path)\n",
        "\n",
        "    # 현재 폴더가 base_dir_plastic이 아니고 비어있다면 삭제\n",
        "    if subdir != base_dir_plastic and not os.listdir(subdir):\n",
        "        os.rmdir(subdir)\n"
      ],
      "metadata": {
        "id": "JjK2MyUsQiqN"
      },
      "execution_count": null,
      "outputs": []
    },
    {
      "cell_type": "code",
      "source": [
        "%cd /content/drive/MyDrive/GDSC/styro\n",
        "!ls -l | grep ^d | wc -l"
      ],
      "metadata": {
        "colab": {
          "base_uri": "https://localhost:8080/"
        },
        "id": "d2Jkn8k_du3h",
        "outputId": "f3269bd5-c499-491f-b1ef-2a534eb86771"
      },
      "execution_count": null,
      "outputs": [
        {
          "output_type": "stream",
          "name": "stdout",
          "text": [
            "/content/drive/MyDrive/GDSC/styro\n",
            "32\n"
          ]
        }
      ]
    },
    {
      "cell_type": "code",
      "source": [
        "# plastic 상위 폴더 경로 설정\n",
        "base_dir_styroform = \"/content/drive/MyDrive/GDSC/styro/\"\n",
        "\n",
        "# 파일 번호 초기화\n",
        "file_number = 1\n",
        "\n",
        "# 하위 폴더의 모든 파일을 상위 plastic 폴더로 이동 및 이름 변경\n",
        "for subdir, dirs, files in os.walk(base_dir_styroform):\n",
        "  for file in files:\n",
        "    new_name = f'styro_{file_number:03d}.jpg'\n",
        "    file_number += 1\n",
        "\n",
        "    # 파일의 전체 경로\n",
        "    file_path = os.path.join(subdir, file)\n",
        "\n",
        "    # 새 파일의 전체 경로\n",
        "    new_file_path = os.path.join(base_dir_styroform, new_name)\n",
        "\n",
        "    # 파일을 새 이름으로 상위 폴더로 이동\n",
        "    shutil.move(file_path, new_file_path)\n",
        "\n",
        "    # 현재 폴더가 base_dir_plastic이 아니고 비어있다면 삭제\n",
        "    if subdir != base_dir_styroform and not os.listdir(subdir):\n",
        "        os.rmdir(subdir)\n"
      ],
      "metadata": {
        "id": "TAc2GL_Bdgq5"
      },
      "execution_count": null,
      "outputs": []
    },
    {
      "cell_type": "markdown",
      "source": [
        "이미지 이름 정렬하기 001~"
      ],
      "metadata": {
        "id": "Yl82cRVkcTVC"
      }
    },
    {
      "cell_type": "code",
      "source": [
        "import os\n",
        "import shutil\n",
        "\n",
        "# 'can' 폴더의 경로 설정\n",
        "base_dir = '/content/drive/MyDrive/GDSC/plastic/'\n",
        "\n",
        "# 파일 이름을 순차적으로 변경하기 위한 시작 인덱스\n",
        "start_index = 1\n",
        "\n",
        "# base_dir에서 각 파일에 대해 반복\n",
        "for i, filename in enumerate(sorted(os.listdir(base_dir)), start=start_index):\n",
        "    # 파일의 현재 경로와 새 경로 생성\n",
        "    old_file = os.path.join(base_dir, filename)\n",
        "    new_file = os.path.join(base_dir, f\"plastic_{i:03d}.jpg\")\n",
        "\n",
        "    # 파일 이름 변경\n",
        "    os.rename(old_file, new_file)"
      ],
      "metadata": {
        "id": "YFi8rFtBULjL"
      },
      "execution_count": null,
      "outputs": []
    },
    {
      "cell_type": "markdown",
      "source": [
        "# 데이터 카테고리별 개수 확인"
      ],
      "metadata": {
        "id": "zoSErUI4hd2v"
      }
    },
    {
      "cell_type": "code",
      "source": [
        "%cd /content/drive/MyDrive/GDSC/can/\n",
        "!ls -l | grep ^- | wc -l"
      ],
      "metadata": {
        "colab": {
          "base_uri": "https://localhost:8080/"
        },
        "id": "ZnMcXLM8K0D1",
        "outputId": "38b2b37d-2cc2-4db3-98fa-5650aa3c5874"
      },
      "execution_count": null,
      "outputs": [
        {
          "output_type": "stream",
          "name": "stdout",
          "text": [
            "/content/drive/MyDrive/GDSC/can\n",
            "433\n"
          ]
        }
      ]
    },
    {
      "cell_type": "code",
      "source": [
        "%cd /content/drive/MyDrive/GDSC/plastic\n",
        "!ls -l | grep ^- | wc -l\n",
        "!ls"
      ],
      "metadata": {
        "colab": {
          "base_uri": "https://localhost:8080/"
        },
        "id": "Wr0BVkOeLWHp",
        "outputId": "54bec39e-5be8-4c21-b9d9-68a9430ca27c"
      },
      "execution_count": null,
      "outputs": [
        {
          "output_type": "stream",
          "name": "stdout",
          "text": [
            "/content/drive/MyDrive/GDSC/plastic\n",
            "265\n",
            "plastic_001.jpg  plastic_054.jpg  plastic_107.jpg  plastic_160.jpg  plastic_213.jpg\n",
            "plastic_002.jpg  plastic_055.jpg  plastic_108.jpg  plastic_161.jpg  plastic_214.jpg\n",
            "plastic_003.jpg  plastic_056.jpg  plastic_109.jpg  plastic_162.jpg  plastic_215.jpg\n",
            "plastic_004.jpg  plastic_057.jpg  plastic_110.jpg  plastic_163.jpg  plastic_216.jpg\n",
            "plastic_005.jpg  plastic_058.jpg  plastic_111.jpg  plastic_164.jpg  plastic_217.jpg\n",
            "plastic_006.jpg  plastic_059.jpg  plastic_112.jpg  plastic_165.jpg  plastic_218.jpg\n",
            "plastic_007.jpg  plastic_060.jpg  plastic_113.jpg  plastic_166.jpg  plastic_219.jpg\n",
            "plastic_008.jpg  plastic_061.jpg  plastic_114.jpg  plastic_167.jpg  plastic_220.jpg\n",
            "plastic_009.jpg  plastic_062.jpg  plastic_115.jpg  plastic_168.jpg  plastic_221.jpg\n",
            "plastic_010.jpg  plastic_063.jpg  plastic_116.jpg  plastic_169.jpg  plastic_222.jpg\n",
            "plastic_011.jpg  plastic_064.jpg  plastic_117.jpg  plastic_170.jpg  plastic_223.jpg\n",
            "plastic_012.jpg  plastic_065.jpg  plastic_118.jpg  plastic_171.jpg  plastic_224.jpg\n",
            "plastic_013.jpg  plastic_066.jpg  plastic_119.jpg  plastic_172.jpg  plastic_225.jpg\n",
            "plastic_014.jpg  plastic_067.jpg  plastic_120.jpg  plastic_173.jpg  plastic_226.jpg\n",
            "plastic_015.jpg  plastic_068.jpg  plastic_121.jpg  plastic_174.jpg  plastic_227.jpg\n",
            "plastic_016.jpg  plastic_069.jpg  plastic_122.jpg  plastic_175.jpg  plastic_228.jpg\n",
            "plastic_017.jpg  plastic_070.jpg  plastic_123.jpg  plastic_176.jpg  plastic_229.jpg\n",
            "plastic_018.jpg  plastic_071.jpg  plastic_124.jpg  plastic_177.jpg  plastic_230.jpg\n",
            "plastic_019.jpg  plastic_072.jpg  plastic_125.jpg  plastic_178.jpg  plastic_231.jpg\n",
            "plastic_020.jpg  plastic_073.jpg  plastic_126.jpg  plastic_179.jpg  plastic_232.jpg\n",
            "plastic_021.jpg  plastic_074.jpg  plastic_127.jpg  plastic_180.jpg  plastic_233.jpg\n",
            "plastic_022.jpg  plastic_075.jpg  plastic_128.jpg  plastic_181.jpg  plastic_234.jpg\n",
            "plastic_023.jpg  plastic_076.jpg  plastic_129.jpg  plastic_182.jpg  plastic_235.jpg\n",
            "plastic_024.jpg  plastic_077.jpg  plastic_130.jpg  plastic_183.jpg  plastic_236.jpg\n",
            "plastic_025.jpg  plastic_078.jpg  plastic_131.jpg  plastic_184.jpg  plastic_237.jpg\n",
            "plastic_026.jpg  plastic_079.jpg  plastic_132.jpg  plastic_185.jpg  plastic_238.jpg\n",
            "plastic_027.jpg  plastic_080.jpg  plastic_133.jpg  plastic_186.jpg  plastic_239.jpg\n",
            "plastic_028.jpg  plastic_081.jpg  plastic_134.jpg  plastic_187.jpg  plastic_240.jpg\n",
            "plastic_029.jpg  plastic_082.jpg  plastic_135.jpg  plastic_188.jpg  plastic_241.jpg\n",
            "plastic_030.jpg  plastic_083.jpg  plastic_136.jpg  plastic_189.jpg  plastic_242.jpg\n",
            "plastic_031.jpg  plastic_084.jpg  plastic_137.jpg  plastic_190.jpg  plastic_243.jpg\n",
            "plastic_032.jpg  plastic_085.jpg  plastic_138.jpg  plastic_191.jpg  plastic_244.jpg\n",
            "plastic_033.jpg  plastic_086.jpg  plastic_139.jpg  plastic_192.jpg  plastic_245.jpg\n",
            "plastic_034.jpg  plastic_087.jpg  plastic_140.jpg  plastic_193.jpg  plastic_246.jpg\n",
            "plastic_035.jpg  plastic_088.jpg  plastic_141.jpg  plastic_194.jpg  plastic_247.jpg\n",
            "plastic_036.jpg  plastic_089.jpg  plastic_142.jpg  plastic_195.jpg  plastic_248.jpg\n",
            "plastic_037.jpg  plastic_090.jpg  plastic_143.jpg  plastic_196.jpg  plastic_249.jpg\n",
            "plastic_038.jpg  plastic_091.jpg  plastic_144.jpg  plastic_197.jpg  plastic_250.jpg\n",
            "plastic_039.jpg  plastic_092.jpg  plastic_145.jpg  plastic_198.jpg  plastic_251.jpg\n",
            "plastic_040.jpg  plastic_093.jpg  plastic_146.jpg  plastic_199.jpg  plastic_252.jpg\n",
            "plastic_041.jpg  plastic_094.jpg  plastic_147.jpg  plastic_200.jpg  plastic_253.jpg\n",
            "plastic_042.jpg  plastic_095.jpg  plastic_148.jpg  plastic_201.jpg  plastic_254.jpg\n",
            "plastic_043.jpg  plastic_096.jpg  plastic_149.jpg  plastic_202.jpg  plastic_255.jpg\n",
            "plastic_044.jpg  plastic_097.jpg  plastic_150.jpg  plastic_203.jpg  plastic_256.jpg\n",
            "plastic_045.jpg  plastic_098.jpg  plastic_151.jpg  plastic_204.jpg  plastic_257.jpg\n",
            "plastic_046.jpg  plastic_099.jpg  plastic_152.jpg  plastic_205.jpg  plastic_258.jpg\n",
            "plastic_047.jpg  plastic_100.jpg  plastic_153.jpg  plastic_206.jpg  plastic_259.jpg\n",
            "plastic_048.jpg  plastic_101.jpg  plastic_154.jpg  plastic_207.jpg  plastic_260.jpg\n",
            "plastic_049.jpg  plastic_102.jpg  plastic_155.jpg  plastic_208.jpg  plastic_261.jpg\n",
            "plastic_050.jpg  plastic_103.jpg  plastic_156.jpg  plastic_209.jpg  plastic_262.jpg\n",
            "plastic_051.jpg  plastic_104.jpg  plastic_157.jpg  plastic_210.jpg  plastic_263.jpg\n",
            "plastic_052.jpg  plastic_105.jpg  plastic_158.jpg  plastic_211.jpg  plastic_264.jpg\n",
            "plastic_053.jpg  plastic_106.jpg  plastic_159.jpg  plastic_212.jpg  plastic_265.jpg\n"
          ]
        }
      ]
    },
    {
      "cell_type": "code",
      "source": [
        "%cd /content/drive/MyDrive/GDSC/glass\n",
        "!ls -l | grep ^- | wc -l"
      ],
      "metadata": {
        "colab": {
          "base_uri": "https://localhost:8080/"
        },
        "id": "-mNUOlE5LhOw",
        "outputId": "072ce6ed-54e8-4dd0-fc0f-3024ab017992"
      },
      "execution_count": null,
      "outputs": [
        {
          "output_type": "stream",
          "name": "stdout",
          "text": [
            "/content/drive/MyDrive/GDSC/glass\n",
            "185\n"
          ]
        }
      ]
    },
    {
      "cell_type": "code",
      "source": [
        "%cd /content/drive/MyDrive/GDSC/styro\n",
        "!ls"
      ],
      "metadata": {
        "colab": {
          "base_uri": "https://localhost:8080/"
        },
        "id": "eDqaxYptR06K",
        "outputId": "12ea5a01-66f9-4796-8827-9b7f0407e806"
      },
      "execution_count": null,
      "outputs": [
        {
          "output_type": "stream",
          "name": "stdout",
          "text": [
            "/content/drive/MyDrive/GDSC/styro\n",
            "styro_001.jpg  styro_028.jpg  styro_055.jpg  styro_082.jpg  styro_109.jpg  styro_136.jpg\n",
            "styro_002.jpg  styro_029.jpg  styro_056.jpg  styro_083.jpg  styro_110.jpg  styro_137.jpg\n",
            "styro_003.jpg  styro_030.jpg  styro_057.jpg  styro_084.jpg  styro_111.jpg  styro_138.jpg\n",
            "styro_004.jpg  styro_031.jpg  styro_058.jpg  styro_085.jpg  styro_112.jpg  styro_139.jpg\n",
            "styro_005.jpg  styro_032.jpg  styro_059.jpg  styro_086.jpg  styro_113.jpg  styro_140.jpg\n",
            "styro_006.jpg  styro_033.jpg  styro_060.jpg  styro_087.jpg  styro_114.jpg  styro_141.jpg\n",
            "styro_007.jpg  styro_034.jpg  styro_061.jpg  styro_088.jpg  styro_115.jpg  styro_142.jpg\n",
            "styro_008.jpg  styro_035.jpg  styro_062.jpg  styro_089.jpg  styro_116.jpg  styro_143.jpg\n",
            "styro_009.jpg  styro_036.jpg  styro_063.jpg  styro_090.jpg  styro_117.jpg  styro_144.jpg\n",
            "styro_010.jpg  styro_037.jpg  styro_064.jpg  styro_091.jpg  styro_118.jpg  styro_145.jpg\n",
            "styro_011.jpg  styro_038.jpg  styro_065.jpg  styro_092.jpg  styro_119.jpg  styro_146.jpg\n",
            "styro_012.jpg  styro_039.jpg  styro_066.jpg  styro_093.jpg  styro_120.jpg  styro_147.jpg\n",
            "styro_013.jpg  styro_040.jpg  styro_067.jpg  styro_094.jpg  styro_121.jpg  styro_148.jpg\n",
            "styro_014.jpg  styro_041.jpg  styro_068.jpg  styro_095.jpg  styro_122.jpg  styro_149.jpg\n",
            "styro_015.jpg  styro_042.jpg  styro_069.jpg  styro_096.jpg  styro_123.jpg  styro_150.jpg\n",
            "styro_016.jpg  styro_043.jpg  styro_070.jpg  styro_097.jpg  styro_124.jpg  styro_151.jpg\n",
            "styro_017.jpg  styro_044.jpg  styro_071.jpg  styro_098.jpg  styro_125.jpg  styro_152.jpg\n",
            "styro_018.jpg  styro_045.jpg  styro_072.jpg  styro_099.jpg  styro_126.jpg  styro_153.jpg\n",
            "styro_019.jpg  styro_046.jpg  styro_073.jpg  styro_100.jpg  styro_127.jpg  styro_154.jpg\n",
            "styro_020.jpg  styro_047.jpg  styro_074.jpg  styro_101.jpg  styro_128.jpg  styro_155.jpg\n",
            "styro_021.jpg  styro_048.jpg  styro_075.jpg  styro_102.jpg  styro_129.jpg  styro_156.jpg\n",
            "styro_022.jpg  styro_049.jpg  styro_076.jpg  styro_103.jpg  styro_130.jpg  styro_157.jpg\n",
            "styro_023.jpg  styro_050.jpg  styro_077.jpg  styro_104.jpg  styro_131.jpg  styro_158.jpg\n",
            "styro_024.jpg  styro_051.jpg  styro_078.jpg  styro_105.jpg  styro_132.jpg  styro_159.jpg\n",
            "styro_025.jpg  styro_052.jpg  styro_079.jpg  styro_106.jpg  styro_133.jpg  styro_160.jpg\n",
            "styro_026.jpg  styro_053.jpg  styro_080.jpg  styro_107.jpg  styro_134.jpg\n",
            "styro_027.jpg  styro_054.jpg  styro_081.jpg  styro_108.jpg  styro_135.jpg\n"
          ]
        }
      ]
    }
  ]
}